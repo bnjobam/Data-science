{
 "cells": [
  {
   "cell_type": "code",
   "execution_count": 1,
   "metadata": {},
   "outputs": [],
   "source": [
    "import numpy as np\n",
    "import pandas as pd\n",
    "import matplotlib.pyplot as plt\n",
    "%matplotlib inline"
   ]
  },
  {
   "cell_type": "code",
   "execution_count": 2,
   "metadata": {},
   "outputs": [],
   "source": [
    "def cross_entropy (y,p_hat):\n",
    "    return -np.sum(y*np.log(p_hat)+(1-y)*np.log(1-p_hat))\n",
    "\n",
    "def accuracy(y, p_hat):\n",
    "    return np.mean(y==p_hat.argmax(axis=1))\n",
    "\n",
    "def softmax(H):\n",
    "    eH=np.exp(H)\n",
    "    return eH/eH.sum(axis=1, keepdims=True) #for each row element, we put exp/sum of exp for that column\n",
    "\n",
    "def softsign(H):\n",
    "    return H/(1+np.abs(H))\n",
    "\n",
    "def feed_forward(x,w, b): #takes in the data, weights and bias where the last two are lists\n",
    "    z=[]\n",
    "    z.append(x)\n",
    "    for i in range(len(w)-1):\n",
    "        z.append(ReLU(np.matmul(z[i],w[i])+b[i]))  #this calculates the activations for each layer forward with layers \n",
    "    p_hat=softmax(np.matmul(z[-1],w[-1])+b[-1])  #indicated by the index and the softmax is the final activation function\n",
    "    return z,p_hat\n",
    "    \n",
    "\n",
    "def ReLU(H):\n",
    "    return H*(H>0)\n",
    "\n",
    "def one_hot_encode(y):\n",
    "    N=len(y)\n",
    "    K=len(set(y))\n",
    "    \n",
    "    Y=np.zeros((N,K))\n",
    "    for i in range(N):\n",
    "        Y[i,y[i]]=1\n",
    "    return Y\n"
   ]
  },
  {
   "cell_type": "code",
   "execution_count": 3,
   "metadata": {},
   "outputs": [],
   "source": [
    "class ANN():\n",
    "    def fit(self,X,y,L=[],eta=1e-6, af=['ReLU'],showcurve=False):\n",
    "        #if len(af)==1\n",
    "        \n",
    "        N,D=X.shape\n",
    "        K=len(set(y))\n",
    "        k=len(L)\n",
    "        z=[]\n",
    "        z.append(X)\n",
    "        for i in range(k):\n",
    "            z.append(np.zeros((N,L[i])))\n",
    "        self.w=[]\n",
    "        self.b=[]\n",
    "        for j in range(k):\n",
    "            self.w.append(np.random.randn(z[j].shape[1],z[j+1].shape[1])) #this initiates the weights and the biases, taking \n",
    "            self.b.append(np.random.randn(z[j+1].shape[1])) #into consideration the apt dimensions from z defined above\n",
    "        self.w.append(np.random.randn(z[-1].shape[1],K))\n",
    "        self.b.append(np.random.randn(K))\n",
    "        \n",
    "        J=[]\n",
    "        \n",
    "        epochs=int(1e3)\n",
    "        \n",
    "        Y=one_hot_encode(y)\n",
    "        \n",
    "        dH=[[]]*(k+1) #dynamic alocation of memory for the layers in back propergation\n",
    "        dw=[[]]*(k+1)\n",
    "        db=[[]]*(k+1)\n",
    "        dz=[[]]*(k)\n",
    "        \n",
    "        for epoch in range(epochs):\n",
    "            z,self.p_hat=feed_forward(z[0],self.w,self.b)\n",
    "            J.append(cross_entropy(Y,self.p_hat))\n",
    "            \n",
    "            \n",
    "            for i in range(k,-1,-1): #starts from k because we are doing back prop and w actually have k+1 calculations\n",
    "                if (i==k):           #to perform\n",
    "                    dH[i]=self.p_hat-Y\n",
    "                else:\n",
    "                    dz[i]=np.matmul(dH[i+1],self.w[i+1].T)\n",
    "                    dH[i]=dz[i]*(z[i+1]>0)\n",
    "                db[i]=dH[i].sum(axis=0)\n",
    "                dw[i]=np.matmul(z[i].T,dH[i])\n",
    "                self.w[i]-=eta*dw[i]\n",
    "                self.b[i]-=eta*db[i]\n",
    "                \n",
    "                \n",
    "            \n",
    "            \n",
    "        if showcurve==True:\n",
    "            plt.figure()\n",
    "            plt.plot(J)\n",
    "            \n",
    "    def predict(self, X):\n",
    "        # option\n",
    "        assert hasattr(self,'p_hat'), \"Need to fit model first!!\"\n",
    "        p_hat=feed_forward(X,self.w,self.b)[-1]\n",
    "        return p_hat.argmax(axis=1)\n",
    "    \n",
    "    def accuracy(self, X,y):\n",
    "        return ((y==self.predict(X))*1).mean()"
   ]
  },
  {
   "cell_type": "code",
   "execution_count": 4,
   "metadata": {},
   "outputs": [],
   "source": [
    "dd=['''print('34')''']\n"
   ]
  },
  {
   "cell_type": "code",
   "execution_count": 5,
   "metadata": {},
   "outputs": [
    {
     "name": "stdout",
     "output_type": "stream",
     "text": [
      "34\n"
     ]
    }
   ],
   "source": [
    "exec(dd[0])"
   ]
  },
  {
   "cell_type": "code",
   "execution_count": null,
   "metadata": {},
   "outputs": [],
   "source": []
  }
 ],
 "metadata": {
  "kernelspec": {
   "display_name": "Python 3",
   "language": "python",
   "name": "python3"
  },
  "language_info": {
   "codemirror_mode": {
    "name": "ipython",
    "version": 3
   },
   "file_extension": ".py",
   "mimetype": "text/x-python",
   "name": "python",
   "nbconvert_exporter": "python",
   "pygments_lexer": "ipython3",
   "version": "3.7.1"
  }
 },
 "nbformat": 4,
 "nbformat_minor": 2
}
