{
 "cells": [
  {
   "cell_type": "code",
   "execution_count": 1,
   "metadata": {},
   "outputs": [],
   "source": [
    "import numpy as np\n",
    "import pandas as pd\n",
    "import matplotlib.pyplot as plt\n",
    "from scipy import stats"
   ]
  },
  {
   "cell_type": "code",
   "execution_count": 11,
   "metadata": {},
   "outputs": [],
   "source": [
    "class KNN:\n",
    "    def classifier(self, data, classes, inputs, k):\n",
    "        n,d=data.shape\n",
    "        self.data=data\n",
    "        self.k=k\n",
    "        self.classes=classes\n",
    "        self.inputs=inputs\n",
    "        out=inputs.shape[0]\n",
    "        sort=self.data\n",
    "        outputs=[]\n",
    "        for i in range(out):\n",
    "            sort['order']=((self.data-self.inputs.iloc[i,:])**2).sum(axis=1)\n",
    "            sort.sort_values(['order'], axis=0,ascending=True, inplace=True)\n",
    "            out1=self.classes[sort.index]\n",
    "            outputs.append(stats.mode(out1.head(k))[0][0])\n",
    "        return outputs\n",
    "    def D(t):\n",
    "        return 3*(1-t**2)/4 #Epanechnikov quadratic kernel\n",
    "    \n",
    "    def regression(self, data, classes, inputs, k):\n",
    "        n,d=data.shape\n",
    "        self.data=data\n",
    "        self.k=k\n",
    "        self.classes=classes\n",
    "        self.inputs=inputs\n",
    "        out=inputs.shape[0]\n",
    "        sort=self.data\n",
    "        outputs=[]\n",
    "        for i in range(out):\n",
    "            sort['order']=((self.data-self.inputs.iloc[i,:])**2).sum(axis=1)\n",
    "            sort.sort_values(['order'], axis=0,ascending=True, inplace=True)\n",
    "            out=self.classes[sort.index]\n",
    "            weights=[D(x/(max(out.head(k))-min(out.head(k)))) for x in out.head(k)]\n",
    "            outputs.append(sum(out.head(k)*weights)/sum(weights))\n",
    "        return outputs"
   ]
  },
  {
   "cell_type": "code",
   "execution_count": 3,
   "metadata": {},
   "outputs": [],
   "source": [
    "D=2\n",
    "K=3\n",
    "N=1500\n",
    "\n",
    "x0=np.random.randn((N//K),D)+np.array([2,2])\n",
    "x1=np.random.randn((N//K),D)+np.array([0,-2])\n",
    "x2=np.random.randn((N//K),D)+np.array([-2,2])\n",
    "data=np.vstack((x0,x1,x2))\n",
    "\n",
    "data=pd.DataFrame(data)\n",
    "data[\"y\"]=[0]*500+[1]*500+[2]*500"
   ]
  },
  {
   "cell_type": "code",
   "execution_count": 12,
   "metadata": {},
   "outputs": [],
   "source": [
    "knn=KNN"
   ]
  },
  {
   "cell_type": "code",
   "execution_count": 15,
   "metadata": {},
   "outputs": [],
   "source": [
    "result=knn.classifier(knn,data.drop('y',axis=1),data.y,data.drop('y',axis=1),39)"
   ]
  },
  {
   "cell_type": "code",
   "execution_count": 16,
   "metadata": {},
   "outputs": [
    {
     "data": {
      "text/plain": [
       "0.9726666666666667"
      ]
     },
     "execution_count": 16,
     "metadata": {},
     "output_type": "execute_result"
    }
   ],
   "source": [
    "(result==data.y).mean()"
   ]
  },
  {
   "cell_type": "code",
   "execution_count": null,
   "metadata": {},
   "outputs": [],
   "source": []
  }
 ],
 "metadata": {
  "kernelspec": {
   "display_name": "Python 3",
   "language": "python",
   "name": "python3"
  },
  "language_info": {
   "codemirror_mode": {
    "name": "ipython",
    "version": 3
   },
   "file_extension": ".py",
   "mimetype": "text/x-python",
   "name": "python",
   "nbconvert_exporter": "python",
   "pygments_lexer": "ipython3",
   "version": "3.7.1"
  }
 },
 "nbformat": 4,
 "nbformat_minor": 2
}
