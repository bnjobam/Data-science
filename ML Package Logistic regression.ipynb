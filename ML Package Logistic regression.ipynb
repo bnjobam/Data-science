{
 "cells": [
  {
   "cell_type": "code",
   "execution_count": 1,
   "metadata": {},
   "outputs": [],
   "source": [
    "import numpy as np\n",
    "import pandas as pd\n",
    "import matplotlib.pyplot as plt\n",
    "%matplotlib inline\n"
   ]
  },
  {
   "cell_type": "code",
   "execution_count": 11,
   "metadata": {},
   "outputs": [],
   "source": [
    "def softmax(H):\n",
    "    eH=np.exp(H)\n",
    "    return eH/eH.sum(axis=1, keepdims=True)\n",
    "\n",
    "def cross_entropy (y,p_hat):\n",
    "    return -np.sum(y*np.log(p_hat)+(1-y)*np.log(1-p_hat))\n",
    "\n",
    "def one_hot_encode(y):\n",
    "    Y=np.zeros((len(y),len(set(y))))\n",
    "    for i in range(len(y)):\n",
    "        Y[i,y[i]]=1\n",
    "    return Y"
   ]
  },
  {
   "cell_type": "code",
   "execution_count": 38,
   "metadata": {},
   "outputs": [],
   "source": [
    "class logistic():\n",
    "    \n",
    "    def fit(self,X,y, eta=1, lambda1=0,lambda2=0, epochs=1e3, showcurve=False):\n",
    "        N,D=X.shape\n",
    "        #takes in raw data, no bias column\n",
    "        X=np.column_stack((np.ones(N),X))\n",
    "        K=len(set(y))\n",
    "        \n",
    "        eta=eta/N\n",
    "        \n",
    "        Y=one_hot_encode(y)\n",
    "        \n",
    "        self.W=np.random.randn(D+1,K)\n",
    "        epochs=int(epochs)\n",
    "        J=np.zeros(epochs)\n",
    "        for epoch in range(epochs):\n",
    "            p_hat=softmax(X.dot(self.W))\n",
    "            J[epoch]=cross_entropy(Y,p_hat)\n",
    "            self.W-=eta*(X.T.dot(p_hat-Y)+lambda1*np.sign(self.W)+lambda2*self.W)\n",
    "            \n",
    "        if showcurve:\n",
    "            plt.figure()\n",
    "            plt.plot(J)\n",
    "            plt.xlabel('epochs')\n",
    "            plt.ylabel('J')\n",
    "            \n",
    "    def predict(self,X):\n",
    "        X=np.column_stack((np.ones(X.shape[0]),X))\n",
    "        \n",
    "        # option\n",
    "        assert hasattr(self,'W'), \"Need to fit model first!!\"\n",
    "        \n",
    "        p_hat=softmax(X.dot(self.W))\n",
    "        return p_hat.argmax(axis=1)\n",
    "    \n",
    "    def accuracy(self,X,y):\n",
    "        return (y==self.predict(X)).mean()"
   ]
  },
  {
   "cell_type": "code",
   "execution_count": null,
   "metadata": {},
   "outputs": [],
   "source": []
  }
 ],
 "metadata": {
  "kernelspec": {
   "display_name": "Python 3",
   "language": "python",
   "name": "python3"
  },
  "language_info": {
   "codemirror_mode": {
    "name": "ipython",
    "version": 3
   },
   "file_extension": ".py",
   "mimetype": "text/x-python",
   "name": "python",
   "nbconvert_exporter": "python",
   "pygments_lexer": "ipython3",
   "version": "3.5.2"
  }
 },
 "nbformat": 4,
 "nbformat_minor": 2
}
