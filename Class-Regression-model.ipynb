{
 "cells": [
  {
   "cell_type": "code",
   "execution_count": 1,
   "metadata": {},
   "outputs": [],
   "source": [
    "import numpy as np\n",
    "import pandas as pd\n"
   ]
  },
  {
   "cell_type": "code",
   "execution_count": 55,
   "metadata": {},
   "outputs": [],
   "source": [
    "class RegressionModel:\n",
    "    def __init__(self, Numerical_predictors, targets):\n",
    "        self.Numerical_predictors=Numerical_predictors\n",
    "        self.targets=targets\n",
    "    \n",
    "    def regress(self):\n",
    "        D=self.Numerical_predictors.shape\n",
    "        M=self.targets.shape\n",
    "        x=self.Numerical_predictors\n",
    "        x=np.column_stack((np.ones((D[0],1)),x))\n",
    "        Y=self.targets\n",
    "        \n",
    "        W=np.linalg.solve(x.T.dot(x),x.T.dot(Y))\n",
    "        Y_hat=x.dot(W)\n",
    "        \n",
    "        R2=[]\n",
    "        for t in range(M[1]):\n",
    "            R2.append(1-np.sum((Y[:,t]-Y_hat[:,t])**2)/np.sum((Y[:,t]-Y[:,t].mean())**2))\n",
    "            \n",
    "        return Y_hat, R2, W       \n",
    "            \n",
    "#The result is a list of Y_hat, R2 and W, the coefficients  "
   ]
  },
  {
   "cell_type": "code",
   "execution_count": 56,
   "metadata": {},
   "outputs": [],
   "source": [
    "#Example: we create a data set to test our class model\n",
    "N=103\n",
    "D=3\n",
    "K=2\n",
    "x=np.random.randn(N,D)\n",
    "xx=np.column_stack((np.ones((N,1)),x))\n",
    "W_true=np.array([[3.485, 2.9048, 1.04957,3.5634],[22.3443,9.5344,4.3423,1.09898]]).T\n",
    "Y=xx.dot(W_true)+ np.random.randn(N,K)"
   ]
  },
  {
   "cell_type": "code",
   "execution_count": 57,
   "metadata": {},
   "outputs": [],
   "source": [
    "R=RegressionModel(x,Y)"
   ]
  },
  {
   "cell_type": "code",
   "execution_count": 59,
   "metadata": {},
   "outputs": [],
   "source": [
    "result=R.regress()"
   ]
  },
  {
   "cell_type": "code",
   "execution_count": 60,
   "metadata": {},
   "outputs": [],
   "source": [
    "Y_hat=result[0]\n",
    "R2=result[1]\n",
    "w=result[2]"
   ]
  },
  {
   "cell_type": "code",
   "execution_count": 61,
   "metadata": {},
   "outputs": [
    {
     "data": {
      "text/plain": [
       "[0.9639244771893521, 0.9916498868772914]"
      ]
     },
     "execution_count": 61,
     "metadata": {},
     "output_type": "execute_result"
    }
   ],
   "source": [
    "R2"
   ]
  },
  {
   "cell_type": "code",
   "execution_count": null,
   "metadata": {},
   "outputs": [],
   "source": []
  }
 ],
 "metadata": {
  "kernelspec": {
   "display_name": "Python 3",
   "language": "python",
   "name": "python3"
  },
  "language_info": {
   "codemirror_mode": {
    "name": "ipython",
    "version": 3
   },
   "file_extension": ".py",
   "mimetype": "text/x-python",
   "name": "python",
   "nbconvert_exporter": "python",
   "pygments_lexer": "ipython3",
   "version": "3.5.2"
  }
 },
 "nbformat": 4,
 "nbformat_minor": 2
}
