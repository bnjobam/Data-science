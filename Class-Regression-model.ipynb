{
 "cells": [
  {
   "cell_type": "code",
   "execution_count": 1,
   "metadata": {},
   "outputs": [],
   "source": [
    "import numpy as np\n",
    "import pandas as pd\n"
   ]
  },
  {
   "cell_type": "code",
   "execution_count": 2,
   "metadata": {},
   "outputs": [],
   "source": [
    "def OLS(Y,Y_hat):\n",
    "    return np.sum((Y-Y_hat)**2)\n",
    "\n",
    "def r_squared(Y,Y_hat):\n",
    "    return 1-OLS(Y,Y_hat)/OLS(Y,Y.mean())"
   ]
  },
  {
   "cell_type": "code",
   "execution_count": 3,
   "metadata": {},
   "outputs": [],
   "source": [
    "class LinearRegression():\n",
    "    #def __str__(self):  #to provide useful information about the data\n",
    "    #   pass\n",
    "    def fit(self,X,Y, eta=1e-3, lambda1=0,lambda2=0, epochs=1e3, showcurve=False):\n",
    "        N,D =X.shape\n",
    "        #X=column_stack((np.ones(N),X))\n",
    "        if len(Y.shape)>1:\n",
    "            K=Y.shape[1]\n",
    "        else:\n",
    "            K=1\n",
    "            \n",
    "        self.W=np.random.randn(D,K)\n",
    "        epochs=int(epochs)\n",
    "        J=np.zeros(epochs)\n",
    "        for epoch in range(epochs):\n",
    "            Y_hat=X.dot(self.W)\n",
    "            J[epoch]=OLS(Y,Y_hat)+lambda1*np.sum(np.abs(self.W))+lambda2*np.sum(self.W**2)\n",
    "            self.W-=eta*(X.T.dot(Y_hat-Y)+lambda1*np.sign(self.W)+lambda2*self.W)\n",
    "            \n",
    "        if showcurve:\n",
    "            plt.figure()\n",
    "            plt.plot(J)\n",
    "            plt.xlabel('epochs')\n",
    "            plt.ylabel('J')\n",
    "            \n",
    "\n",
    "    def predict(self,X):\n",
    "        X=column_stack((np.ones(X.shape[0]),X))\n",
    "        return X.dot(self.W)"
   ]
  },
  {
   "cell_type": "code",
   "execution_count": null,
   "metadata": {},
   "outputs": [],
   "source": []
  }
 ],
 "metadata": {
  "kernelspec": {
   "display_name": "Python 3",
   "language": "python",
   "name": "python3"
  },
  "language_info": {
   "codemirror_mode": {
    "name": "ipython",
    "version": 3
   },
   "file_extension": ".py",
   "mimetype": "text/x-python",
   "name": "python",
   "nbconvert_exporter": "python",
   "pygments_lexer": "ipython3",
   "version": "3.5.2"
  }
 },
 "nbformat": 4,
 "nbformat_minor": 2
}
