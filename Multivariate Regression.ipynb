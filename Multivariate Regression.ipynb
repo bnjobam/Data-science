{
 "cells": [
  {
   "cell_type": "code",
   "execution_count": 16,
   "metadata": {},
   "outputs": [],
   "source": [
    "import numpy as np\n",
    "import matplotlib.pyplot as plt\n",
    "%matplotlib inline"
   ]
  },
  {
   "cell_type": "code",
   "execution_count": 17,
   "metadata": {},
   "outputs": [],
   "source": [
    "N=103\n",
    "D=3\n",
    "K=2\n",
    "\n",
    "x=np.random.randn(N,D)\n",
    "x=np.column_stack((np.ones((N,1)),x))\n",
    "\n",
    "W_true=np.array([[3.485, 2.9048, 1.04957,3.5634],[22.3443,9.5344,4.3423,1.09898]]).T\n",
    "\n",
    "Y=x.dot(W_true)+ np.random.randn(N,K)\n"
   ]
  },
  {
   "cell_type": "code",
   "execution_count": 18,
   "metadata": {},
   "outputs": [
    {
     "name": "stdout",
     "output_type": "stream",
     "text": [
      "R-squareds for Y1 and Y2 are : 0.9582618796941353 and 0.9915037577652694 respectively\n"
     ]
    }
   ],
   "source": [
    "W=np.linalg.solve(x.T.dot(x),x.T.dot(Y))\n",
    "Y_hat=x.dot(W)\n",
    "\n",
    "R21=1-np.sum((Y[:,0]-Y_hat[:,0])**2)/np.sum((Y[:,0]-Y[:,0].mean())**2)\n",
    "R22=1-np.sum((Y[:,1]-Y_hat[:,1])**2)/np.sum((Y[:,1]-Y[:,1].mean())**2)\n",
    "print(\"R-squareds for Y1 and Y2 are : {} and {} respectively\".format(R21,R22))"
   ]
  }
 ],
 "metadata": {
  "kernelspec": {
   "display_name": "Python 3",
   "language": "python",
   "name": "python3"
  },
  "language_info": {
   "codemirror_mode": {
    "name": "ipython",
    "version": 3
   },
   "file_extension": ".py",
   "mimetype": "text/x-python",
   "name": "python",
   "nbconvert_exporter": "python",
   "pygments_lexer": "ipython3",
   "version": "3.5.2"
  }
 },
 "nbformat": 4,
 "nbformat_minor": 2
}
