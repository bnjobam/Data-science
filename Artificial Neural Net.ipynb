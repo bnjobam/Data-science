{
 "cells": [
  {
   "cell_type": "code",
   "execution_count": 2,
   "metadata": {},
   "outputs": [],
   "source": [
    "import numpy as np\n",
    "import pandas as pd\n",
    "import matplotlib.pyplot as plt\n",
    "%matplotlib inline"
   ]
  },
  {
   "cell_type": "code",
   "execution_count": 3,
   "metadata": {},
   "outputs": [],
   "source": [
    "def one_hot_encode(y):\n",
    "    N = len(y)\n",
    "    K = len(set(y))\n",
    "    \n",
    "    Y = np.zeros((N,K))\n",
    "    \n",
    "    for i in range(N):\n",
    "        Y[i,y[i]] = 1\n",
    "        \n",
    "    return Y\n",
    "\n",
    "def shuffle(*args):\n",
    "    idx = np.random.permutation(len(args[0]))\n",
    "    return [X[idx] for X in args]\n",
    "\n",
    "def ReLU(H):\n",
    "    return H*(H > 0)\n",
    "\n",
    "def softmax(H):\n",
    "    eH = np.exp(H)\n",
    "    return eH/eH.sum(axis = 1, keepdims = True)\n",
    "\n",
    "def feed_forward(X,W1,b1,W2,b2):\n",
    "    Z1 = ReLU(np.matmul(X,W1) + b1)\n",
    "    P_hat = softmax(np.matmul(Z1,W2) + b2)\n",
    "    return Z1, P_hat\n",
    "    \n",
    "def cross_entropy(Y, P_hat):\n",
    "    return -np.sum(Y*np.log(P_hat))\n",
    "\n",
    "def accuracy(y, p_hat):\n",
    "    return np.mean(y == p_hat.argmax(axis=1))"
   ]
  },
  {
   "cell_type": "code",
   "execution_count": 4,
   "metadata": {},
   "outputs": [],
   "source": [
    "data=pd.read_csv(\"usps_digit_recognizer.csv\")\n",
    "d=data.label\n",
    "data=data/255\n",
    "data.label=d\n",
    "\n",
    "G=[data.iloc[i,1:].mean() for i in range(len(data.label))] #average of the whole digit to measure the amount of ink used\n",
    "G5=[data.iloc[i,393:].mean() for i in range(len(data.label))] #average ink for the bottom half\n",
    "\n",
    "l2=[x for x in range(28*0,28*6-1,1)]\n",
    "l3=[x for x in range(28*6,28*14-1,1)]\n",
    "l4=[x for x in range(28*14,28*21-1,1)]\n",
    "G2=[data.iloc[i,l2].mean() for i in range(len(data.label))]#average pixels 1/4 way line across the image \n",
    "G3=[data.iloc[i,l3].mean() for i in range(len(data.label))]\n",
    "G4=[data.iloc[i,l4].mean() for i in range(len(data.label))]\n",
    "\n",
    "data['Ave_pix']=G\n",
    "data['G5']=G5\n",
    "data['Gl4']=G4\n",
    "data['Gl2']=G2\n",
    "data['Gl3']=G3\n",
    "\n",
    "#partitioning to do cross validation\n",
    "train=data.sample(frac=0.6,random_state=0)\n",
    "temp=data.loc[~data.index.isin(train.index),:]\n",
    "validation=temp.sample(frac=0.5,random_state=6)\n",
    "test=temp.loc[~temp.index.isin(validation.index),:]"
   ]
  },
  {
   "cell_type": "code",
   "execution_count": 5,
   "metadata": {},
   "outputs": [
    {
     "data": {
      "image/png": "[encoded data removed]",
      "text/plain": [
       "<Figure size 432x288 with 20 Axes>"
      ]
     },
     "metadata": {},
     "output_type": "display_data"
    }
   ],
   "source": [
    "X = pd.read_csv(\"usps_digit_recognizer.csv\")\n",
    "X = X.values[:,1:]\n",
    "\n",
    "nrows = 4\n",
    "ncols = 5\n",
    "# number of subplots\n",
    "N1 = int(nrows*ncols)\n",
    "\n",
    "fig,ax = plt.subplots(nrows=nrows, ncols=ncols)\n",
    "\n",
    "\n",
    "\n",
    "\n",
    "# loop over all supblots\n",
    "for n in range(N1):\n",
    "    \n",
    "    # get axis indicies for subplot\n",
    "    i,j = divmod(n,ncols)\n",
    "    \n",
    "    x = X[n*20,:].reshape([28,28])\n",
    "    \n",
    "\n",
    "    ax[i,j].imshow(x, cmap='Greys')\n",
    "    \n",
    "    # clean \n",
    "    ax[i,j].set_xticks([])\n",
    "    ax[i,j].set_yticks([])\n",
    "    \n"
   ]
  },
  {
   "cell_type": "code",
   "execution_count": 6,
   "metadata": {},
   "outputs": [
    {
     "data": {
      "text/plain": [
       "[<matplotlib.lines.Line2D at 0x7fee315db400>]"
      ]
     },
     "execution_count": 6,
     "metadata": {},
     "output_type": "execute_result"
    },
    {
     "data": {
      "image/png": "[encoded data removed]",
      "text/plain": [
       "<Figure size 432x288 with 1 Axes>"
      ]
     },
     "metadata": {
      "needs_background": "light"
     },
     "output_type": "display_data"
    }
   ],
   "source": [
    "y=np.array(train.label)\n",
    "x=train.drop('label', axis=1)\n",
    "x=np.array(x)\n",
    "\n",
    "N,D=x.shape\n",
    "K=len(set(y))\n",
    "\n",
    "M=100\n",
    "w1 = np.random.randn(D,M)\n",
    "b1 = np.random.randn(M)\n",
    "w2 = np.random.randn(M,K)\n",
    "b2 = np.random.randn(K)\n",
    "\n",
    "\n",
    "eta0=5e-4 #innitializing eta the learning rate\n",
    "epsilon=1e-10 #to make sure we donot divide by zero\n",
    "gt1=1\n",
    "gt2=1\n",
    "gtb1=1\n",
    "gtb2=1\n",
    "\n",
    "check=100\n",
    "batch_size=100\n",
    "t=0\n",
    "gamma=0.9992\n",
    "epochs=100\n",
    "\n",
    "J_D=[]\n",
    "\n",
    "Y=one_hot_encode(y)\n",
    "\n",
    "for epoch in range(epochs):\n",
    "    x,Y,y=shuffle(x,Y,y)\n",
    "    for j in range(int(N/batch_size)):\n",
    "        \n",
    "        #batches=[int((j*N)/batch_size): int((j+1)*N/batch_size)]\n",
    "        x_b=x[int((j*N)/batch_size) : int((j+1)*N/batch_size),:]\n",
    "        Y_b=Y[int((j*N)/batch_size) : int((j+1)*N/batch_size),:]\n",
    "        t+=1\n",
    "        \n",
    "        eta1=eta0/np.sqrt(gt1+epsilon)\n",
    "        eta2=eta0/np.sqrt(gt2+epsilon)\n",
    "        etab1=eta0/np.sqrt(gtb1+epsilon)\n",
    "        etab2=eta0/np.sqrt(gtb2+epsilon)\n",
    "        \n",
    "        z_b, p_hat_b=feed_forward(x_b,w1,b1,w2,b2)\n",
    "\n",
    "\n",
    "        dH2 = p_hat_b-Y_b\n",
    "        dw2 = np.matmul(z_b.T,dH2)\n",
    "        db2 = dH2.sum(axis = 0)\n",
    "        w2 -= eta2*dw2\n",
    "        b2 -= etab2*db2\n",
    "\n",
    "        dz = np.matmul(dH2,w2.T)\n",
    "        dH1 = dz*(z_b > 0)\n",
    "        dw1 = np.matmul(x_b.T,dH1)\n",
    "        db1 = dH1.sum(axis = 0)\n",
    "        w1 -= eta1*dw1\n",
    "        b1 -= etab1*db1\n",
    "        \n",
    "        gt1 =gamma*gt1+(1-gamma)*(dw1)**2\n",
    "        gt2 =gamma*gt2+(1-gamma)*(dw2)**2 \n",
    "        gtb1 =gamma*gtb1+(1-gamma)*(db1)**2\n",
    "        gtb2=gamma*gtb2+(1-gamma)*(db2)**2\n",
    "\n",
    "        if t%check==0:\n",
    "            p_hat=feed_forward(x,w1,b1,w2,b2)[-1]\n",
    "            J_D.append(cross_entropy(Y,p_hat))\n",
    "            \n",
    "            \n",
    "plt.figure()\n",
    "plt.plot(J_D)"
   ]
  },
  {
   "cell_type": "code",
   "execution_count": 7,
   "metadata": {},
   "outputs": [
    {
     "data": {
      "text/plain": [
       "1.0"
      ]
     },
     "execution_count": 7,
     "metadata": {},
     "output_type": "execute_result"
    }
   ],
   "source": [
    "accuracy(y,p_hat)"
   ]
  },
  {
   "cell_type": "code",
   "execution_count": 17,
   "metadata": {},
   "outputs": [
    {
     "data": {
      "text/plain": [
       "0.9285714285714286"
      ]
     },
     "execution_count": 17,
     "metadata": {},
     "output_type": "execute_result"
    }
   ],
   "source": [
    "xv=validation.drop(\"label\", axis=1)\n",
    "yv=np.array(validation.label)\n",
    "xv=np.array(xv)\n",
    "p_hatv=feed_forward(xv,w1,b1,w2,b2)[-1]\n",
    "accuracy(yv,p_hatv)"
   ]
  },
  {
   "cell_type": "code",
   "execution_count": 18,
   "metadata": {},
   "outputs": [
    {
     "data": {
      "text/plain": [
       "0.9304761904761905"
      ]
     },
     "execution_count": 18,
     "metadata": {},
     "output_type": "execute_result"
    }
   ],
   "source": [
    "xt=test.drop(\"label\", axis=1)\n",
    "yt=np.array(test.label)\n",
    "xt=np.array(xt)\n",
    "p_hatt=feed_forward(xt,w1,b1,w2,b2)[-1]\n",
    "accuracy(yt,p_hatt)"
   ]
  },
  {
   "cell_type": "code",
   "execution_count": 19,
   "metadata": {},
   "outputs": [],
   "source": [
    "conf=one_hot_encode(yt).T.dot(one_hot_encode(p_hatt.argmax(axis=1)))"
   ]
  },
  {
   "cell_type": "code",
   "execution_count": 20,
   "metadata": {},
   "outputs": [],
   "source": [
    "conf=pd.DataFrame(conf)\n",
    "cc=np.zeros(10)\n",
    "for i in range(10):\n",
    "    cc[i]=(conf.loc[i,:].sum()-conf.loc[i,i])/conf.loc[i,:].sum()\n",
    "    \n",
    "conf['%error']=cc*100"
   ]
  },
  {
   "cell_type": "code",
   "execution_count": 21,
   "metadata": {},
   "outputs": [
    {
     "data": {
      "text/html": [
       "<div>\n",
       "<style scoped>\n",
       "    .dataframe tbody tr th:only-of-type {\n",
       "        vertical-align: middle;\n",
       "    }\n",
       "\n",
       "    .dataframe tbody tr th {\n",
       "        vertical-align: top;\n",
       "    }\n",
       "\n",
       "    .dataframe thead th {\n",
       "        text-align: right;\n",
       "    }\n",
       "</style>\n",
       "<table border=\"1\" class=\"dataframe\">\n",
       "  <thead>\n",
       "    <tr style=\"text-align: right;\">\n",
       "      <th></th>\n",
       "      <th>0</th>\n",
       "      <th>1</th>\n",
       "      <th>2</th>\n",
       "      <th>3</th>\n",
       "      <th>4</th>\n",
       "      <th>5</th>\n",
       "      <th>6</th>\n",
       "      <th>7</th>\n",
       "      <th>8</th>\n",
       "      <th>9</th>\n",
       "      <th>%error</th>\n",
       "    </tr>\n",
       "  </thead>\n",
       "  <tbody>\n",
       "    <tr>\n",
       "      <th>0</th>\n",
       "      <td>776.0</td>\n",
       "      <td>0.0</td>\n",
       "      <td>6.0</td>\n",
       "      <td>1.0</td>\n",
       "      <td>0.0</td>\n",
       "      <td>3.0</td>\n",
       "      <td>2.0</td>\n",
       "      <td>2.0</td>\n",
       "      <td>4.0</td>\n",
       "      <td>6.0</td>\n",
       "      <td>3.000000</td>\n",
       "    </tr>\n",
       "    <tr>\n",
       "      <th>1</th>\n",
       "      <td>0.0</td>\n",
       "      <td>903.0</td>\n",
       "      <td>2.0</td>\n",
       "      <td>1.0</td>\n",
       "      <td>2.0</td>\n",
       "      <td>4.0</td>\n",
       "      <td>0.0</td>\n",
       "      <td>0.0</td>\n",
       "      <td>8.0</td>\n",
       "      <td>3.0</td>\n",
       "      <td>2.166847</td>\n",
       "    </tr>\n",
       "    <tr>\n",
       "      <th>2</th>\n",
       "      <td>5.0</td>\n",
       "      <td>7.0</td>\n",
       "      <td>803.0</td>\n",
       "      <td>17.0</td>\n",
       "      <td>6.0</td>\n",
       "      <td>6.0</td>\n",
       "      <td>8.0</td>\n",
       "      <td>8.0</td>\n",
       "      <td>14.0</td>\n",
       "      <td>2.0</td>\n",
       "      <td>8.333333</td>\n",
       "    </tr>\n",
       "    <tr>\n",
       "      <th>3</th>\n",
       "      <td>4.0</td>\n",
       "      <td>2.0</td>\n",
       "      <td>18.0</td>\n",
       "      <td>808.0</td>\n",
       "      <td>4.0</td>\n",
       "      <td>19.0</td>\n",
       "      <td>4.0</td>\n",
       "      <td>3.0</td>\n",
       "      <td>13.0</td>\n",
       "      <td>8.0</td>\n",
       "      <td>8.493771</td>\n",
       "    </tr>\n",
       "    <tr>\n",
       "      <th>4</th>\n",
       "      <td>2.0</td>\n",
       "      <td>1.0</td>\n",
       "      <td>7.0</td>\n",
       "      <td>0.0</td>\n",
       "      <td>766.0</td>\n",
       "      <td>3.0</td>\n",
       "      <td>8.0</td>\n",
       "      <td>8.0</td>\n",
       "      <td>6.0</td>\n",
       "      <td>24.0</td>\n",
       "      <td>7.151515</td>\n",
       "    </tr>\n",
       "    <tr>\n",
       "      <th>5</th>\n",
       "      <td>10.0</td>\n",
       "      <td>0.0</td>\n",
       "      <td>2.0</td>\n",
       "      <td>21.0</td>\n",
       "      <td>6.0</td>\n",
       "      <td>687.0</td>\n",
       "      <td>9.0</td>\n",
       "      <td>1.0</td>\n",
       "      <td>24.0</td>\n",
       "      <td>9.0</td>\n",
       "      <td>10.663199</td>\n",
       "    </tr>\n",
       "    <tr>\n",
       "      <th>6</th>\n",
       "      <td>4.0</td>\n",
       "      <td>1.0</td>\n",
       "      <td>3.0</td>\n",
       "      <td>1.0</td>\n",
       "      <td>9.0</td>\n",
       "      <td>12.0</td>\n",
       "      <td>756.0</td>\n",
       "      <td>1.0</td>\n",
       "      <td>5.0</td>\n",
       "      <td>1.0</td>\n",
       "      <td>4.665826</td>\n",
       "    </tr>\n",
       "    <tr>\n",
       "      <th>7</th>\n",
       "      <td>2.0</td>\n",
       "      <td>3.0</td>\n",
       "      <td>7.0</td>\n",
       "      <td>4.0</td>\n",
       "      <td>11.0</td>\n",
       "      <td>0.0</td>\n",
       "      <td>1.0</td>\n",
       "      <td>829.0</td>\n",
       "      <td>1.0</td>\n",
       "      <td>21.0</td>\n",
       "      <td>5.688282</td>\n",
       "    </tr>\n",
       "    <tr>\n",
       "      <th>8</th>\n",
       "      <td>4.0</td>\n",
       "      <td>6.0</td>\n",
       "      <td>9.0</td>\n",
       "      <td>18.0</td>\n",
       "      <td>5.0</td>\n",
       "      <td>11.0</td>\n",
       "      <td>8.0</td>\n",
       "      <td>4.0</td>\n",
       "      <td>730.0</td>\n",
       "      <td>10.0</td>\n",
       "      <td>9.316770</td>\n",
       "    </tr>\n",
       "    <tr>\n",
       "      <th>9</th>\n",
       "      <td>3.0</td>\n",
       "      <td>0.0</td>\n",
       "      <td>3.0</td>\n",
       "      <td>12.0</td>\n",
       "      <td>32.0</td>\n",
       "      <td>6.0</td>\n",
       "      <td>0.0</td>\n",
       "      <td>21.0</td>\n",
       "      <td>12.0</td>\n",
       "      <td>758.0</td>\n",
       "      <td>10.507674</td>\n",
       "    </tr>\n",
       "  </tbody>\n",
       "</table>\n",
       "</div>"
      ],
      "text/plain": [
       "       0      1      2      3      4      5      6      7      8      9  \\\n",
       "0  776.0    0.0    6.0    1.0    0.0    3.0    2.0    2.0    4.0    6.0   \n",
       "1    0.0  903.0    2.0    1.0    2.0    4.0    0.0    0.0    8.0    3.0   \n",
       "2    5.0    7.0  803.0   17.0    6.0    6.0    8.0    8.0   14.0    2.0   \n",
       "3    4.0    2.0   18.0  808.0    4.0   19.0    4.0    3.0   13.0    8.0   \n",
       "4    2.0    1.0    7.0    0.0  766.0    3.0    8.0    8.0    6.0   24.0   \n",
       "5   10.0    0.0    2.0   21.0    6.0  687.0    9.0    1.0   24.0    9.0   \n",
       "6    4.0    1.0    3.0    1.0    9.0   12.0  756.0    1.0    5.0    1.0   \n",
       "7    2.0    3.0    7.0    4.0   11.0    0.0    1.0  829.0    1.0   21.0   \n",
       "8    4.0    6.0    9.0   18.0    5.0   11.0    8.0    4.0  730.0   10.0   \n",
       "9    3.0    0.0    3.0   12.0   32.0    6.0    0.0   21.0   12.0  758.0   \n",
       "\n",
       "      %error  \n",
       "0   3.000000  \n",
       "1   2.166847  \n",
       "2   8.333333  \n",
       "3   8.493771  \n",
       "4   7.151515  \n",
       "5  10.663199  \n",
       "6   4.665826  \n",
       "7   5.688282  \n",
       "8   9.316770  \n",
       "9  10.507674  "
      ]
     },
     "execution_count": 21,
     "metadata": {},
     "output_type": "execute_result"
    }
   ],
   "source": [
    "conf"
   ]
  },
  {
   "cell_type": "code",
   "execution_count": 12,
   "metadata": {},
   "outputs": [
    {
     "data": {
      "text/plain": [
       "1.8409636248436638"
      ]
     },
     "execution_count": 12,
     "metadata": {},
     "output_type": "execute_result"
    }
   ],
   "source": [
    "J_D[-1]"
   ]
  },
  {
   "cell_type": "code",
   "execution_count": null,
   "metadata": {},
   "outputs": [],
   "source": []
  }
 ],
 "metadata": {
  "kernelspec": {
   "display_name": "Python 3",
   "language": "python",
   "name": "python3"
  },
  "language_info": {
   "codemirror_mode": {
    "name": "ipython",
    "version": 3
   },
   "file_extension": ".py",
   "mimetype": "text/x-python",
   "name": "python",
   "nbconvert_exporter": "python",
   "pygments_lexer": "ipython3",
   "version": "3.7.1"
  }
 },
 "nbformat": 4,
 "nbformat_minor": 2
}
